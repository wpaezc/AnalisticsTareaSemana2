{
 "cells": [
  {
   "cell_type": "markdown",
   "id": "c5d5b5b6-79b0-47f5-9b7b-d5f15198f6fe",
   "metadata": {
    "tags": []
   },
   "source": [
    "# Tarea: Entendimiento de los datos con PySpark"
   ]
  },
  {
   "cell_type": "markdown",
   "id": "a70cc911-3de7-451d-a038-eb38ac8f55d9",
   "metadata": {},
   "source": [
    "## Configuración general"
   ]
  },
  {
   "cell_type": "code",
   "execution_count": 1,
   "id": "d2bb6805-0d54-40fc-8e15-6476f4d6733b",
   "metadata": {},
   "outputs": [],
   "source": [
    "from pyspark.sql import SparkSession\n",
    "from pyspark.sql import functions\n",
    "from pyspark.sql.types import StructType\n",
    "from pyspark import SparkContext, SparkConf, SQLContext\n",
    "from pyspark.sql.types import FloatType, StringType, IntegerType, DateType\n",
    "from pyspark.sql.functions import udf, col, length, isnan, when, count\n",
    "import pyspark.sql.functions as f\n",
    "import os \n",
    "from datetime import datetime\n",
    "from pyspark.sql import types as t\n",
    "from pandas_profiling import ProfileReport\n",
    "#import matplotlib.pyplot as plt\n",
    "import numpy as np\n",
    "\n",
    "path_jar_driver = '/home/wcpaez/Downloads/mysql.jar'\n",
    "\n",
    "#Configuración de la sesión\n",
    "conf=SparkConf() \\\n",
    "    .set('spark.driver.extraClassPath', path_jar_driver)\n",
    "\n",
    "spark_context = SparkContext(conf=conf)\n",
    "sql_context = SQLContext(spark_context)\n",
    "spark = sql_context.sparkSession\n",
    "\n",
    "# Si quiere practicar la conexion con el servidor de base de datos:\n",
    "db_connection_string = 'jdbc:mysql://**.**.**.**:8080/WWImportersTransactional'\n",
    "# El usuario es su estudiante _i asignado y su contraseña la encontrará en el archivo excel de Coursera \n",
    "db_user = 'Estudiante_39'\n",
    "db_psswd = '************'\n",
    "\n",
    "PATH='./'\n",
    "\n",
    "def obtener_dataframe_de_bd(db_connection_string, sql, db_user, db_psswd):\n",
    "    df_bd = spark.read.format('jdbc')\\\n",
    "        .option('url', db_connection_string) \\\n",
    "        .option('dbtable', sql) \\\n",
    "        .option('user', db_user) \\\n",
    "        .option('password', db_psswd) \\\n",
    "        .option('driver', 'com.mysql.cj.jdbc.Driver') \\\n",
    "        .load()\n",
    "    return df_bd\n",
    "\n",
    "sql_movimientos = 'WWImportersTransactional.movimientosCopia'\n",
    "#Se cargan el dataframes desde la BD\n",
    "movimientos = obtener_dataframe_de_bd(db_connection_string, sql_movimientos, db_user, db_psswd)"
   ]
  },
  {
   "cell_type": "markdown",
   "id": "c5780a8a-1265-471f-bf67-ee1d4f434059",
   "metadata": {
    "jp-MarkdownHeadingCollapsed": true,
    "tags": []
   },
   "source": [
    "### Información dada por la organización relacionada con los datos\n",
    "Para la tabla movimientosCopia, que registra el movimiento en inventario de un producto, el negocio menciona que:\n",
    "\n",
    "- La cantidad máxima de productos movidos es 50 millones por viaje\n",
    "- Existen 236.668 movimientos de producto realizados desde 2013\n",
    "- Los movimientos están relacionados con 228.265 clientes\n",
    "- El formato de fechas manejado es YYYY-MM-DD HH:MM:SS\n",
    "- Actualmente tenemos 13 proveedores"
   ]
  },
  {
   "cell_type": "markdown",
   "id": "3cbc9089-8c58-4bb2-9219-e2a7f4ebc124",
   "metadata": {
    "tags": []
   },
   "source": [
    "## Perfilamiento de datos\n",
    "\n",
    "### Entendimiento general de los datos\n",
    "\n",
    "Se genera una muestra de los datos de la tabla movimientos"
   ]
  },
  {
   "cell_type": "code",
   "execution_count": 11,
   "id": "a21c252d-d727-4231-800b-fb3e7c10415f",
   "metadata": {},
   "outputs": [
    {
     "name": "stdout",
     "output_type": "stream",
     "text": [
      "+---------------------+----------+-----------------+---------+---------+-----------+---------------+----------------+--------+\n",
      "|TransaccionProductoID|ProductoID|TipoTransaccionID|ClienteID|InvoiceID|ProveedorID|OrdenDeCompraID|FechaTransaccion|Cantidad|\n",
      "+---------------------+----------+-----------------+---------+---------+-----------+---------------+----------------+--------+\n",
      "|               118903|       217|               10|    476.0|  24904.0|           |               |     Apr 25,2014|   -40.0|\n",
      "|               286890|       135|               10|     33.0|  60117.0|           |               |     Dec 10,2015|    -7.0|\n",
      "|               285233|       111|               10|    180.0|  59768.0|           |               |     Dec 04,2015|    -2.0|\n",
      "|               290145|       213|               10|     33.0|  60795.0|           |               |     Dec 23,2015|    -3.0|\n",
      "|               247492|        90|               10|     55.0|  51851.0|           |               |     Jul 27,2015|   -24.0|\n",
      "|               157714|       212|               10|    146.0|  33043.0|           |               |     Sep 15,2014|   -20.0|\n",
      "|               250024|       218|               10|    585.0|  52377.0|           |               |     Aug 04,2015|   -60.0|\n",
      "|               200801|       120|               10|     30.0|  42049.0|           |               |     Feb 23,2015|    -3.0|\n",
      "|               221525|       129|               10|    596.0|  46388.0|           |               |     May 01,2015|    -7.0|\n",
      "|               295331|       197|               10|   1037.0|  61886.0|           |               |     Jan 08,2016|  -216.0|\n",
      "+---------------------+----------+-----------------+---------+---------+-----------+---------------+----------------+--------+\n",
      "only showing top 10 rows\n",
      "\n"
     ]
    }
   ],
   "source": [
    "movimientos.show(10)"
   ]
  },
  {
   "cell_type": "markdown",
   "id": "ae67ad08-d31f-4d14-8b21-5f2e6867c771",
   "metadata": {},
   "source": [
    "Como se puede observar en la tabla movimientos tenemos que se tiene información relacionada:\n",
    "\n",
    "- La información del producto es su identificar _ProductoID_\n",
    "- La información del tipo de transacción es _TipoTransaccionID_\n",
    "- La información del cliente es _ClienteID_\n",
    "- La información del proveedor es _ProveedorID_\n",
    "- La información de la orden es _OrdenDeCompraID_\n",
    "\n",
    "y la información de un movimiento es:\n",
    "\n",
    "- El identificador del movimiento en _TransaccionProductoID_\n",
    "- El identificador de la factura en _InvoiceID_\n",
    "- La fecha que se realizó el movimiento en _FechaTransaccion_\n",
    "- La cantidad movida en la columna _Cantidad_, salidas representadas con valor negativo, ingresos con valor positivo\n"
   ]
  },
  {
   "cell_type": "markdown",
   "id": "c16aca4a-2f52-4cbc-a1d6-b952e1847680",
   "metadata": {},
   "source": [
    "Tambien se procede a evaluar el esquema para tener el tipo de dato de cada una:"
   ]
  },
  {
   "cell_type": "code",
   "execution_count": 12,
   "id": "6dacc604-a33c-4f9b-b20d-a1213bcd27d9",
   "metadata": {},
   "outputs": [
    {
     "data": {
      "text/plain": [
       "StructType(List(StructField(TransaccionProductoID,IntegerType,true),StructField(ProductoID,IntegerType,true),StructField(TipoTransaccionID,IntegerType,true),StructField(ClienteID,DoubleType,true),StructField(InvoiceID,DoubleType,true),StructField(ProveedorID,StringType,true),StructField(OrdenDeCompraID,StringType,true),StructField(FechaTransaccion,StringType,true),StructField(Cantidad,DoubleType,true)))"
      ]
     },
     "execution_count": 12,
     "metadata": {},
     "output_type": "execute_result"
    }
   ],
   "source": [
    "movimientos.schema"
   ]
  },
  {
   "cell_type": "markdown",
   "id": "681ac486-7e1a-46ff-a0d5-ce5c5e1221f1",
   "metadata": {},
   "source": [
    "Los tipos de datos estan distribuidos de la siguiente forma:\n",
    "- Integer (TransaccionProductoID, ProductoID, TipoTransaccionID)\n",
    "- Double (ClienteID, InvoiceID, Cantidad)\n",
    "- String (ProveedorID, OrdenDeCompraID, FechaTransaccion)\n",
    "\n",
    "Tambien se calcula el total de registros y columnas"
   ]
  },
  {
   "cell_type": "code",
   "execution_count": 13,
   "id": "281b10da-7082-490c-b2b1-d8f7c2968ddb",
   "metadata": {},
   "outputs": [
    {
     "name": "stdout",
     "output_type": "stream",
     "text": [
      "(204292, 9)\n"
     ]
    }
   ],
   "source": [
    "print((movimientos.count(), len(movimientos.columns)))"
   ]
  },
  {
   "cell_type": "markdown",
   "id": "f4ec4f1c-e35f-408c-825b-27b07df71b27",
   "metadata": {},
   "source": [
    "**¿Cantidad de registros y cantidad de columnas por tipo de dato?**\n",
    "En total tenemos 204.292 movimientos con 9 variables a revisar de las cuales 6 son nùmericas(3 Integer, 3 Double) y 3 de tipo String, cabe resaltar que la columna FechaTransaccion no esta representado como un tipo fecha.\n",
    "\n",
    "**¿Qué es una fila de cada fuente compartida?**\n",
    "Con estos análisis podemos concluir que una fila de movimientos representa la entrada y salida de productos a Wide Importers. Una salida tiene una cantidad negativa con un cliente y una factura. Un ingreso tiene una cantidad positiva, con un proveedor y una orden de compra."
   ]
  },
  {
   "cell_type": "markdown",
   "id": "994f2cb3-3000-4dc2-9c7d-747aaa4e2ea9",
   "metadata": {
    "tags": []
   },
   "source": [
    "### Revision de reglas de negocio\n",
    "\n",
    "#### Regla: La cantidad máxima de productos movidos es 50 millones por viaje\n",
    "\n",
    "Lo primero que vamos a calcular es el valor movido total por OrdenDeCompraID, esto representa un viaje de ingreso."
   ]
  },
  {
   "cell_type": "code",
   "execution_count": 33,
   "id": "58dcdffa-b507-4822-aafe-588a33f2f1ca",
   "metadata": {},
   "outputs": [
    {
     "name": "stdout",
     "output_type": "stream",
     "text": [
      "+---------------+-------------+\n",
      "|OrdenDeCompraID|sum(Cantidad)|\n",
      "+---------------+-------------+\n",
      "|         2048.0|     320904.0|\n",
      "+---------------+-------------+\n",
      "only showing top 1 row\n",
      "\n"
     ]
    }
   ],
   "source": [
    "movimientos.where(col(\"OrdenDeCompraID\") != \"\").groupBy(\"OrdenDeCompraID\").sum(\"Cantidad\").sort(col(\"sum(Cantidad)\").desc()).show(1)"
   ]
  },
  {
   "cell_type": "markdown",
   "id": "37e44f0e-0bff-4f38-a39b-6111fb6d7cae",
   "metadata": {},
   "source": [
    "Como podemos ver el valor máximo de ingreso es 320904.0 para la orden con ID 2048. **Se cumple la regla de negocio**.\n",
    "\n",
    "De la misma forma se evalua las salidas, vamos a agrupar por InvoiceID, esto representa un viaje de salida:    "
   ]
  },
  {
   "cell_type": "code",
   "execution_count": 37,
   "id": "6b767eaa-0886-400b-9362-8981dbd1ee7f",
   "metadata": {},
   "outputs": [
    {
     "name": "stdout",
     "output_type": "stream",
     "text": [
      "+---------+-------------+\n",
      "|InvoiceID|sum(Cantidad)|\n",
      "+---------+-------------+\n",
      "|  29796.0|      -1273.0|\n",
      "+---------+-------------+\n",
      "only showing top 1 row\n",
      "\n"
     ]
    }
   ],
   "source": [
    "movimientos.where(col(\"OrdenDeCompraID\") == \"\").groupBy(\"InvoiceID\").sum(\"Cantidad\").sort(col(\"sum(Cantidad)\").asc()).show(1)"
   ]
  },
  {
   "cell_type": "markdown",
   "id": "bc426c5c-a1ed-4953-967c-41949c8e3b1c",
   "metadata": {},
   "source": [
    "En el caso de salidas se puede ver que el máximo movido es de 1273.0 de la factura 29796. **Se cumple la regla del negocio**.\n",
    "\n",
    "**Consulta al negocio #1:**\n",
    "Dado que no se tiene un concepto claro de lo que es un viaje, se desea saber si la forma de agrupar ya sea por OrdenDeCompraID(Ingresos) o por InvoiceID(salidas) es la representación correcta de un viaje. Se solicita aclarar este concepto.\n",
    "\n",
    "#### Regla: Existen 236.668 movimientos de producto realizados desde 2013\n",
    "\n",
    "Dado que en la tabla solo existen 204.292 registros esta regla de negocio **no** se cumple. Adicional se informa que es necesario transformar esta columna dado que al estar con un tipo de dato String no se puede realizar cálculos de fecha.\n",
    "\n",
    "#### Regla: Los movimientos están relacionados con 228.265 clientes\n",
    "\n",
    "Se procede a hacer el calculo de cuantos clientes distintos hay en la tabla movimientos."
   ]
  },
  {
   "cell_type": "code",
   "execution_count": 50,
   "id": "0b9ca212-7d8f-4e49-96d6-d4675efbee18",
   "metadata": {},
   "outputs": [
    {
     "data": {
      "text/plain": [
       "663"
      ]
     },
     "execution_count": 50,
     "metadata": {},
     "output_type": "execute_result"
    }
   ],
   "source": [
    "movimientos.where(\"ClienteID IS NOT NULL\").where(col('ClienteID') != 0).select(col('ClienteID')).distinct().count()"
   ]
  },
  {
   "cell_type": "markdown",
   "id": "00b5d12d-9e02-417f-a311-1e615916098f",
   "metadata": {},
   "source": [
    "Esta regla de negocio **no** se cumple dado que solo hay 663 clientes distintos en la tabla movimientos.\n",
    "\n",
    "**Consulta al negocio #2:**\n",
    "Se ha observado que cuando existe un ingreso de productos(cantidad positiva), se registra en ClienteID el valor de 0. Queremos saber si debe ser considerado como cliente el ID 0. Se solicita aclarar este concepto.\n",
    "\n",
    "#### Regla: El formato de fechas manejado es YYYY-MM-DD HH:MM:SS"
   ]
  },
  {
   "cell_type": "code",
   "execution_count": 41,
   "id": "d74ed6d8-5917-4f9b-9435-c543f3ac9abd",
   "metadata": {},
   "outputs": [
    {
     "name": "stdout",
     "output_type": "stream",
     "text": [
      "Número total de movimientos: 204292, número de movimientos con formato correcto: 140038\n"
     ]
    }
   ],
   "source": [
    "regex = \"[0-2]\\d{3}-(0[1-9]|1[0-2])-(0[1-9]|[1-2][0-9]|3[0-1])\"\n",
    "cumplenFormato = movimientos.filter(movimientos[\"FechaTransaccion\"].rlike(regex))\n",
    "print(\"Número total de movimientos: \"+str(movimientos.count())+\", número de movimientos con formato correcto: \"+str(cumplenFormato.count()))"
   ]
  },
  {
   "cell_type": "code",
   "execution_count": 46,
   "id": "1f7286b8-5c9d-4fdc-934d-ebb7a07900c0",
   "metadata": {},
   "outputs": [
    {
     "name": "stdout",
     "output_type": "stream",
     "text": [
      "+----------------+\n",
      "|FechaTransaccion|\n",
      "+----------------+\n",
      "|     Apr 25,2014|\n",
      "+----------------+\n",
      "only showing top 1 row\n",
      "\n"
     ]
    },
    {
     "data": {
      "text/plain": [
       "(64254, None)"
      ]
     },
     "execution_count": 46,
     "metadata": {},
     "output_type": "execute_result"
    }
   ],
   "source": [
    "noCumplenFormato = movimientos.filter(~movimientos[\"FechaTransaccion\"].rlike(regex))\n",
    "noCumplenFormato.count(), noCumplenFormato.select(col(\"FechaTransaccion\")).show(1)"
   ]
  },
  {
   "cell_type": "markdown",
   "id": "13244684-e847-435a-8979-8155bd220cf2",
   "metadata": {},
   "source": [
    "Como se puede observar hay 64.254 registros que no cumplen con el formato dado. Esta regla de negocio **no** se cumple, es necesario hacer una transformación no solo de los formatos, sino también del tipo de dado de esta columna dado que es un String.\n",
    "\n",
    "#### Regla: Actualmente tenemos 13 proveedores"
   ]
  },
  {
   "cell_type": "code",
   "execution_count": 48,
   "id": "86ea04d4-e9db-4123-94a2-57c06d435de8",
   "metadata": {},
   "outputs": [
    {
     "data": {
      "text/plain": [
       "3"
      ]
     },
     "execution_count": 48,
     "metadata": {},
     "output_type": "execute_result"
    }
   ],
   "source": [
    "movimientos.where(\"ProveedorID IS NOT NULL\").where(col('ProveedorID') != \"\").select(col('ProveedorID')).distinct().count()"
   ]
  },
  {
   "cell_type": "markdown",
   "id": "50c9e634-14e5-498d-8c7b-273e71fed0a7",
   "metadata": {},
   "source": [
    "Esta regla de negocio **no** se cumple dado que solo hay 3 proveedores."
   ]
  },
  {
   "cell_type": "markdown",
   "id": "da6fccf4-cd2a-4f92-add5-5ec112db1563",
   "metadata": {},
   "source": [
    "### Análisis descriptivo\n",
    "Una vez cubierto lo básico de reglas de negocio, pasamos a perfilamiento estadístico. Se realiza los estadisticos generales como conteo, mínimo, máximo, desviación estandar.\n",
    "Para tener una mejor comprension de los datos, decidimos separar ingresos(cantidad positiva) de salidas(cantidad negativa)\n",
    "\n",
    "#### Para movimientos de tipo ingreso"
   ]
  },
  {
   "cell_type": "code",
   "execution_count": 54,
   "id": "78f999a9-bb06-4c9a-bbfd-fbd9377eec0f",
   "metadata": {},
   "outputs": [
    {
     "name": "stdout",
     "output_type": "stream",
     "text": [
      "+-------+---------------------+------------------+-------------------+---------+---------+-----------------+------------------+--------------------+------------------+\n",
      "|summary|TransaccionProductoID|        ProductoID|  TipoTransaccionID|ClienteID|InvoiceID|      ProveedorID|   OrdenDeCompraID|    FechaTransaccion|          Cantidad|\n",
      "+-------+---------------------+------------------+-------------------+---------+---------+-----------------+------------------+--------------------+------------------+\n",
      "|  count|                 7129|              7129|               7129|     7129|     7129|             7129|              7129|                7129|              7129|\n",
      "|   mean|   211909.66474961425|120.46458128769814| 11.002665170430635|      0.0|      0.0|4.951898734177215|1345.9973277074544|                null|21700.456024687894|\n",
      "| stddev|    70963.66259008426|51.480212747637104|0.05156006402512745|      0.0|      0.0|1.406311225432683|420.37740964792835|                null|13593.400385261053|\n",
      "|    min|                89146|                22|                 11|      0.0|      0.0|                 |                  |2013-12-31 07:00:...|               1.0|\n",
      "|    25%|               151761|                80|                 11|      0.0|      0.0|              4.0|             986.0|                null|           12072.0|\n",
      "|    50%|               209573|                95|                 11|      0.0|      0.0|              4.0|            1347.0|                null|           19752.0|\n",
      "|    75%|               274548|               184|                 11|      0.0|      0.0|              7.0|            1710.0|                null|           30750.0|\n",
      "|    max|               335846|               227|                 12|      0.0|      0.0|              7.0|             999.0|         Sep 30,2015|           67368.0|\n",
      "+-------+---------------------+------------------+-------------------+---------+---------+-----------------+------------------+--------------------+------------------+\n",
      "\n"
     ]
    }
   ],
   "source": [
    "movimientos.where('Cantidad > 0').summary().show()"
   ]
  },
  {
   "cell_type": "markdown",
   "id": "e4e8fc80-8e9d-4a25-a9da-68821d18dd20",
   "metadata": {},
   "source": [
    "De estos datos podemos determinar que:\n",
    "   - Hay 7129 registros de tipo ingreso.\n",
    "   - No son importantes los campos ClienteID e InovoiceID al tener una media de 0. Esto nos da a entender que estas columnas no son usadas para un movimiento de tipo ingreso.\n",
    "   - Las cantidades de ingreso van desde 1 hasta 67368 para un producto en específico. \n",
    "   - Al ver TipoTransaccionID, al tener una stddev muy cerca a cero, podemos determinar que casi todas los ingresos son de TipoTransaccionID 11(Stock Receipt)\n",
    "   \n",
    "Para verificar que tipos de transacciones se tiene se pasa a agrupar:\n"
   ]
  },
  {
   "cell_type": "code",
   "execution_count": 60,
   "id": "a77fad9a-21cf-416b-807d-cc18b5063032",
   "metadata": {},
   "outputs": [
    {
     "name": "stdout",
     "output_type": "stream",
     "text": [
      "+-----------------+-----+\n",
      "|TipoTransaccionID|count|\n",
      "+-----------------+-----+\n",
      "|               11| 7110|\n",
      "|               12|   19|\n",
      "+-----------------+-----+\n",
      "\n"
     ]
    }
   ],
   "source": [
    "movimientos.where('Cantidad > 0').groupby(\"TipoTransaccionID\").count().orderBy(\"count\", ascending=False).show(5)"
   ]
  },
  {
   "cell_type": "markdown",
   "id": "1ba850d3-b115-4ab1-a46e-3ea8e74866ae",
   "metadata": {},
   "source": [
    "Se confirma que la casi el total de movimientos de ingreso son de tipo 11. \n",
    "\n",
    "Para tener una visualización de como se distribuye las cantidades vemos  el siguiente diagrama de caja:"
   ]
  },
  {
   "cell_type": "code",
   "execution_count": 56,
   "id": "2602f161-27ee-4faf-83f2-f13ebd15475f",
   "metadata": {},
   "outputs": [
    {
     "data": {
      "text/plain": [
       "{'whiskers': [<matplotlib.lines.Line2D at 0x7f20a6f6b640>,\n",
       "  <matplotlib.lines.Line2D at 0x7f20a6f6b910>],\n",
       " 'caps': [<matplotlib.lines.Line2D at 0x7f20a6f6bca0>,\n",
       "  <matplotlib.lines.Line2D at 0x7f20a6f6beb0>],\n",
       " 'boxes': [<matplotlib.lines.Line2D at 0x7f20a6f6b310>],\n",
       " 'medians': [<matplotlib.lines.Line2D at 0x7f20a7769400>],\n",
       " 'fliers': [<matplotlib.lines.Line2D at 0x7f20a77696d0>],\n",
       " 'means': []}"
      ]
     },
     "execution_count": 56,
     "metadata": {},
     "output_type": "execute_result"
    },
    {
     "data": {
      "image/png": "[encoded data removed]",
      "text/plain": [
       "<Figure size 432x288 with 1 Axes>"
      ]
     },
     "metadata": {
      "needs_background": "light"
     },
     "output_type": "display_data"
    }
   ],
   "source": [
    "%matplotlib inline\n",
    "import matplotlib.pyplot as plt\n",
    "\n",
    "fig1, ax1 = plt.subplots()\n",
    "ax1.set_title('Cantidad de Ingresos')\n",
    "ax1.boxplot(np.array(movimientos.where('Cantidad > 0').select('Cantidad').collect()))"
   ]
  },
  {
   "cell_type": "markdown",
   "id": "c139fe0d-7058-40f0-9585-6194fa19eebe",
   "metadata": {},
   "source": [
    "Si bien la mayor parte de movimientos tiene una cantidad entre 10.000 y 30.000, también se puede ver que existen movimientos muy por encima del promedio. Esto también se verifica tambien al ver la stddev de 13593.4 para la cantidad."
   ]
  },
  {
   "cell_type": "markdown",
   "id": "b2d73a32-b06a-44c9-8bcc-ec04230dbb84",
   "metadata": {},
   "source": [
    "\n",
    "#### Para movimientos de tipo salida"
   ]
  },
  {
   "cell_type": "code",
   "execution_count": 55,
   "id": "727a20d1-e842-4d5b-8e46-08ef741d5dec",
   "metadata": {},
   "outputs": [
    {
     "name": "stdout",
     "output_type": "stream",
     "text": [
      "+-------+---------------------+------------------+--------------------+-----------------+------------------+-----------+---------------+--------------------+-------------------+\n",
      "|summary|TransaccionProductoID|        ProductoID|   TipoTransaccionID|        ClienteID|         InvoiceID|ProveedorID|OrdenDeCompraID|    FechaTransaccion|           Cantidad|\n",
      "+-------+---------------------+------------------+--------------------+-----------------+------------------+-----------+---------------+--------------------+-------------------+\n",
      "|  count|               197158|            197158|              197158|           197158|            197158|     197158|         197158|              197158|             197158|\n",
      "|   mean|   212479.65874070543|110.34856815346068|  10.000223171263656|536.0442842796133|44511.642738311406|       null|           null|                null|-39.128541575792006|\n",
      "| stddev|    71365.98001145638|63.854648397177975|0.021125694912629004|345.6163685294113|14973.463033388263|       null|           null|                null|  54.35727520186641|\n",
      "|    min|                89181|                 1|                  10|              0.0|               0.0|           |               |2013-12-31 12:00:...|             -360.0|\n",
      "|    25%|               150585|                54|                  10|            163.0|           31543.0|       null|           null|                null|              -60.0|\n",
      "|    50%|               212424|               111|                  10|            523.0|           44473.0|       null|           null|                null|              -10.0|\n",
      "|    75%|               274216|               165|                  10|            883.0|           57456.0|       null|           null|                null|               -5.0|\n",
      "|    max|               336251|               227|                  12|           1061.0|           70510.0|           |               |         Sep 30,2015|               -1.0|\n",
      "+-------+---------------------+------------------+--------------------+-----------------+------------------+-----------+---------------+--------------------+-------------------+\n",
      "\n"
     ]
    }
   ],
   "source": [
    "movimientos.where('Cantidad < 0').summary().show()"
   ]
  },
  {
   "cell_type": "markdown",
   "id": "af1499b8-663f-4421-8879-432b400413cb",
   "metadata": {},
   "source": [
    "De estos datos podemos determinar que:\n",
    "   - Hay 197158 registros de tipo salida.\n",
    "   - No son importantes los campos ProveedorID y OrdenDecompraID al no tener datos. Esto nos da a entender que estas columnas no son usadas para un movimiento de tipo salida.\n",
    "   - Las cantidades de ingreso van desde 1 hasta 360 para un producto en específico. \n",
    "   - Al ver TipoTransaccionID, al tener una stddev muy cerca a cero, podemos determinar que casi todas los ingresos son de TipoTransaccionID 10(Stock Issue)\n"
   ]
  },
  {
   "cell_type": "code",
   "execution_count": 62,
   "id": "952f50cf-0b37-4df7-8987-eddcbc3ee75b",
   "metadata": {},
   "outputs": [
    {
     "name": "stdout",
     "output_type": "stream",
     "text": [
      "+-----------------+------+\n",
      "|TipoTransaccionID| count|\n",
      "+-----------------+------+\n",
      "|               10|197136|\n",
      "|               12|    22|\n",
      "+-----------------+------+\n",
      "\n"
     ]
    }
   ],
   "source": [
    "movimientos.where('Cantidad < 0').groupby(\"TipoTransaccionID\").count().orderBy(\"count\", ascending=False).show(5)"
   ]
  },
  {
   "cell_type": "markdown",
   "id": "b640dbb7-8774-4a8a-a5bc-b7b947fa3e41",
   "metadata": {},
   "source": [
    "Se confirma que la casi el total de movimientos de ingreso son de tipo 10."
   ]
  },
  {
   "cell_type": "markdown",
   "id": "bd74e6b3-63a3-4a0c-ace5-11b6ce54f91c",
   "metadata": {
    "tags": []
   },
   "source": [
    "## Análisis de calidad de datos\n",
    "\n",
    "### Completitud"
   ]
  },
  {
   "cell_type": "code",
   "execution_count": 80,
   "id": "d49477fa-7a5b-4135-994f-fd68dd4479b8",
   "metadata": {},
   "outputs": [],
   "source": [
    "def contar_vacios(df):\n",
    "    resultados = []\n",
    "    for c in df.columns:\n",
    "        vacios = df.filter(df[c].isNull()).count()\n",
    "        print(c, vacios)\n",
    "        if vacios!=0:\n",
    "            print('número de vacíos para columna '+c+': '+str( vacios ))\n",
    "            resultados.append(vacios)\n",
    "    return resultados"
   ]
  },
  {
   "cell_type": "code",
   "execution_count": null,
   "id": "3ecb43ea-47a0-4e88-8142-ea07461f1893",
   "metadata": {},
   "outputs": [],
   "source": [
    "contar_vacios(movimientos)"
   ]
  },
  {
   "cell_type": "markdown",
   "id": "e5914806-8728-44a2-8f45-5b87b774a934",
   "metadata": {},
   "source": [
    "Se detecta que todas las columnas no tienen valores nulos, pero ademas se procede a ver en las columnas de tipo string si no tienen valores vacios."
   ]
  },
  {
   "cell_type": "code",
   "execution_count": 84,
   "id": "9c52d7ec-b877-4bb9-8d7a-7c1121867621",
   "metadata": {},
   "outputs": [
    {
     "data": {
      "text/plain": [
       "(197182, 197182, 0)"
      ]
     },
     "execution_count": 84,
     "metadata": {},
     "output_type": "execute_result"
    }
   ],
   "source": [
    "movimientos.where(\"ProveedorID = ''\").count(), movimientos.where(\" OrdenDeCompraID = ''\").count(), movimientos.where(\"FechaTransaccion = ''\").count()"
   ]
  },
  {
   "cell_type": "markdown",
   "id": "d3bf4c0e-1e59-4507-bb18-c8179c5ad9f3",
   "metadata": {},
   "source": [
    "Podemos ver que existen valores en las columnas ProveedorID y OrdenDeCompraID que estan vacios, pero esto debemos de evaluarlo en el marco de un salida dado que cuando se tiene un valor negativo estos campos pueden estar vacios."
   ]
  },
  {
   "cell_type": "code",
   "execution_count": 86,
   "id": "309f32f6-1e81-4faf-b409-3972863a30db",
   "metadata": {},
   "outputs": [
    {
     "name": "stdout",
     "output_type": "stream",
     "text": [
      "+---------------------+----------+-----------------+---------+---------+-----------+---------------+--------------------+--------+\n",
      "|TransaccionProductoID|ProductoID|TipoTransaccionID|ClienteID|InvoiceID|ProveedorID|OrdenDeCompraID|    FechaTransaccion|Cantidad|\n",
      "+---------------------+----------+-----------------+---------+---------+-----------+---------------+--------------------+--------+\n",
      "|               326934|        57|               12|      0.0|      0.0|           |               |         Apr 30,2016|     3.0|\n",
      "|               326936|        51|               12|      0.0|      0.0|           |               |         Apr 30,2016|     1.0|\n",
      "|               301420|       113|               12|      0.0|      0.0|           |               |         Jan 31,2016|     3.0|\n",
      "|               146565|       175|               12|      0.0|      0.0|           |               |         Jul 31,2014|     2.0|\n",
      "|                97777|        70|               12|      0.0|      0.0|           |               |2014-01-31 14:00:...|     3.0|\n",
      "|               120181|       202|               12|      0.0|      0.0|           |               |2014-04-30 14:00:...|     2.0|\n",
      "|               120182|       142|               12|      0.0|      0.0|           |               |2014-04-30 14:00:...|     3.0|\n",
      "|               146567|       203|               12|      0.0|      0.0|           |               |2014-07-31 14:00:...|     4.0|\n",
      "|               170371|        43|               12|      0.0|      0.0|           |               |2014-10-31 14:00:...|     2.0|\n",
      "|               194930|        27|               12|      0.0|      0.0|           |               |2015-01-31 14:00:...|     3.0|\n",
      "|               221187|       132|               12|      0.0|      0.0|           |               |2015-04-30 14:00:...|     4.0|\n",
      "|               221190|        42|               12|      0.0|      0.0|           |               |2015-04-30 14:00:...|     4.0|\n",
      "|               249261|        22|               12|      0.0|      0.0|           |               |2015-07-31 14:00:...|     4.0|\n",
      "|               275457|       118|               12|      0.0|      0.0|           |               |2015-10-31 14:00:...|     1.0|\n",
      "|               146567|       203|               12|      0.0|      0.0|           |               |2014-07-31 14:00:...|     4.0|\n",
      "|               221187|       132|               12|      0.0|      0.0|           |               |2015-04-30 14:00:...|     4.0|\n",
      "|               194930|        27|               12|      0.0|      0.0|           |               |2015-01-31 14:00:...|     3.0|\n",
      "|               120182|       142|               12|      0.0|      0.0|           |               |2014-04-30 14:00:...|     3.0|\n",
      "|               120181|       202|               12|      0.0|      0.0|           |               |2014-04-30 14:00:...|     2.0|\n",
      "+---------------------+----------+-----------------+---------+---------+-----------+---------------+--------------------+--------+\n",
      "\n"
     ]
    }
   ],
   "source": [
    "movimientos.where(\"ProveedorID = '' AND Cantidad > 0\").show()"
   ]
  },
  {
   "cell_type": "markdown",
   "id": "0775fde6-9701-4ffb-91e1-df93eacb69b9",
   "metadata": {},
   "source": [
    "Con esto descubrimos un tipo especial de movimiento, lo cual nos lleva a nuestra siguiente consulta.\n",
    "\n",
    "**Consulta al negocio #3:**\n",
    "Se necesita saber que significa un movimiento de TipoTransaccionID = 12, donde no se tiene referencia ni a un cliente, ni a una factura, ni a un proveedor ni a una orden."
   ]
  },
  {
   "cell_type": "markdown",
   "id": "a272131f-19b7-4924-b29b-f22ba8fbade1",
   "metadata": {},
   "source": [
    "### Unicidad"
   ]
  },
  {
   "cell_type": "code",
   "execution_count": 65,
   "id": "bc46c9c7-88df-49ab-84dd-ebd2e3ff3baf",
   "metadata": {},
   "outputs": [
    {
     "data": {
      "text/plain": [
       "(204292, 173659)"
      ]
     },
     "execution_count": 65,
     "metadata": {},
     "output_type": "execute_result"
    }
   ],
   "source": [
    "movimientos.count(), movimientos.distinct().count()"
   ]
  },
  {
   "cell_type": "markdown",
   "id": "435ae481-1179-4d6a-aeaa-36cf7b2b36bc",
   "metadata": {},
   "source": [
    "Como se observa existen solo 173.659 registros únicos de 204.292. Vamos a ver si existen duplicados en la llave primaria TransaccionProductoID."
   ]
  },
  {
   "cell_type": "code",
   "execution_count": 68,
   "id": "1f73960c-42bc-4b28-bc6b-164e12228764",
   "metadata": {},
   "outputs": [
    {
     "name": "stdout",
     "output_type": "stream",
     "text": [
      "+---------------------+-----+\n",
      "|TransaccionProductoID|count|\n",
      "+---------------------+-----+\n",
      "|               197953|    2|\n",
      "|               323250|    2|\n",
      "|               101055|    2|\n",
      "|               309597|    2|\n",
      "|               209326|    2|\n",
      "+---------------------+-----+\n",
      "only showing top 5 rows\n",
      "\n"
     ]
    }
   ],
   "source": [
    "movimientos.groupBy(\"TransaccionProductoID\").count().orderBy(\"count\", ascending=False).show(5)"
   ]
  },
  {
   "cell_type": "code",
   "execution_count": 69,
   "id": "46056492-3e36-462d-a1d1-b3c19248e8f7",
   "metadata": {},
   "outputs": [
    {
     "name": "stdout",
     "output_type": "stream",
     "text": [
      "+---------------------+----------+-----------------+---------+---------+-----------+---------------+--------------------+--------+\n",
      "|TransaccionProductoID|ProductoID|TipoTransaccionID|ClienteID|InvoiceID|ProveedorID|OrdenDeCompraID|    FechaTransaccion|Cantidad|\n",
      "+---------------------+----------+-----------------+---------+---------+-----------+---------------+--------------------+--------+\n",
      "|               197953|       212|               10|    174.0|  41456.0|           |               |2015-02-12 12:00:...|   -10.0|\n",
      "|               197953|       212|               10|    174.0|  41456.0|           |               |2015-02-12 12:00:...|   -10.0|\n",
      "+---------------------+----------+-----------------+---------+---------+-----------+---------------+--------------------+--------+\n",
      "\n"
     ]
    }
   ],
   "source": [
    "movimientos.where(\"TransaccionProductoID = 197953\").show()"
   ]
  },
  {
   "cell_type": "markdown",
   "id": "bae2abda-e457-4b9e-86b7-b4afe288f1b0",
   "metadata": {},
   "source": [
    "Existen duplicados de registros en su totalidad, se recomienda eliminar estos duplicados. Se tiene como máximo un duplicado por movimiento."
   ]
  },
  {
   "cell_type": "markdown",
   "id": "3cd8216b-b670-4028-9cdb-05ed935cd69a",
   "metadata": {},
   "source": [
    "### Consistencia"
   ]
  },
  {
   "cell_type": "markdown",
   "id": "07c1ad47-571c-4998-95f5-73aa396a1581",
   "metadata": {},
   "source": [
    "Del analisis descriptivo anterior se sabe que casi todos los registros para un movimiento de salida es de TipoTransaccionID 10, mientras para ingreso el 11. Procedemos a ver estos datos:"
   ]
  },
  {
   "cell_type": "code",
   "execution_count": 70,
   "id": "06c84822-3aef-42d4-9caa-cb3436d67b6d",
   "metadata": {},
   "outputs": [
    {
     "name": "stdout",
     "output_type": "stream",
     "text": [
      "+-----------------+---------------------+\n",
      "|TipoTransaccionID|TipoTransaccionNombre|\n",
      "+-----------------+---------------------+\n",
      "|                2| Customer Credit Note|\n",
      "|                3| Customer Payment ...|\n",
      "|                4|      Customer Refund|\n",
      "|                5|     Supplier Invoice|\n",
      "|                6| Supplier Credit Note|\n",
      "|                7| Supplier Payment ...|\n",
      "|                8|      Supplier Refund|\n",
      "|                9|       Stock Transfer|\n",
      "|               10|          Stock Issue|\n",
      "|               11|        Stock Receipt|\n",
      "|               12| Stock Adjustment ...|\n",
      "|               13|      Customer Contra|\n",
      "+-----------------+---------------------+\n",
      "\n"
     ]
    }
   ],
   "source": [
    "obtener_dataframe_de_bd(db_connection_string, \"WWImportersTransactional.TiposTransaccion\", db_user, db_psswd).show()"
   ]
  },
  {
   "cell_type": "markdown",
   "id": "268561db-ab2a-4b0a-9557-6f92a32a547f",
   "metadata": {},
   "source": [
    "Se procede a verificar estos valores y ambos representan un movimiento de stock, Stock Issue(ID 10), Stock Receipt(ID 11). Se cree que para una salida de material no deberia tener Stock Issue.\n",
    "\n",
    "**Consulta al negocio #4:**\n",
    "Se necesita saber si un movimiento de tipo salida puede tener de Tipo de Transaccion un valor de Stock Issue. Se solicita aclarar este concepto.\n",
    "\n",
    "### Validez\n",
    "\n",
    "En la columna FechaTransaccion no existe se cumple el formato de regla de negocio, existen datos con otro formato.\n",
    "\n",
    "Se procede a verificar que los movimientos de salida, los que tienen InvoiceID y ClienteID solo pueden tener valores negativos."
   ]
  },
  {
   "cell_type": "code",
   "execution_count": 74,
   "id": "b1f12015-b631-4cc5-82a2-68102ef1436c",
   "metadata": {},
   "outputs": [
    {
     "data": {
      "text/plain": [
       "(197158, 197158)"
      ]
     },
     "execution_count": 74,
     "metadata": {},
     "output_type": "execute_result"
    }
   ],
   "source": [
    "movimientos.where(\"ClienteID IS NOT NULL AND InvoiceID IS NOT NULL AND cantidad < 0\").count(), movimientos.where(\"cantidad < 0\").count()"
   ]
  },
  {
   "cell_type": "markdown",
   "id": "d55c0324-3f13-461f-88e9-ee621a381f9d",
   "metadata": {},
   "source": [
    "Se procede a verificar que los movimientos de salida, los que tienen ProveedorID y OrdenDeCompraID solo pueden tener valores positivos."
   ]
  },
  {
   "cell_type": "code",
   "execution_count": 75,
   "id": "b6c47d0f-2154-4401-8c13-8509e82e1ea8",
   "metadata": {},
   "outputs": [
    {
     "data": {
      "text/plain": [
       "(7129, 7129)"
      ]
     },
     "execution_count": 75,
     "metadata": {},
     "output_type": "execute_result"
    }
   ],
   "source": [
    "movimientos.where(\"ProveedorID IS NOT NULL AND OrdenDeCompraID IS NOT NULL AND cantidad > 0\").count(), movimientos.where(\"cantidad > 0\").count()"
   ]
  },
  {
   "cell_type": "markdown",
   "id": "1a585ba0-30c2-4f8f-bb7b-7ee9afb530d4",
   "metadata": {},
   "source": [
    "Dada la totalidad de registros (197158 + 7128) se da a conocer que no existen registros con cantidad de movimiento igual a 0."
   ]
  },
  {
   "cell_type": "markdown",
   "id": "15789f96-701e-4aee-9306-5331c68d4e20",
   "metadata": {},
   "source": [
    "### Conclusiones/resultados\n",
    "#### Conclusiones generales:\n",
    "- En la tabla de movimientos tenemos información relacionada al ingreso y salida de productos. \n",
    "- Dependiendo si es un ingreso o una salida se puede tener valores positivos o negativos en la columna cantidad. **¿Esto es correcto?**\n",
    "- Existe una columna de llave foránea ClienteID que está con tipo Double, este debe ser cambiado a Integer.\n",
    "- Existen  dos columnas de llave foránea ProveedorID y OrdenDecompraID que tienen como tipo String, estas deben ser cambiadas a Integer.\n",
    "- La columna FechaTransaccion está representada con un tipo String, debe ser cambiada a tipo Fecha.\n",
    "- Una fila de movimiento representa un movimiento de un producto, este debe tener los datos de cliente y factura en caso de ser una salidad, y tener los datos de proveedor y orden en caso de ser un ingreso. Los ingresos son representados con una cantidad positiva, las salidas con una cantidad negativa. **¿Es posible tener un movimiento sin referencias a cliente o proveedor?**\n",
    "- Dado que no se tiene una tabla que referencia a las facturas, se desea saber si InvoiceID debe estar representado con un tipo double, o solo string.\n",
    "\n",
    "#### Conclusiones de reglas de negocio:\n",
    "\n",
    "- La regla 1 es cierta si manejamos el concepto de viaje como una agrupación de InvoiceID o OrdenDeCompraID, dependiendo si es un ingreso o una salida de material. **Se solicita al negocio aclarar el concepto de viaje.**\n",
    "- La regla 2 no se cumple dado que solo existen 204.292 en total.\n",
    "- La regla 3 no se cumple dado que solo existen 663 clientes. **Se necesita aclarar que significa un ClienteID y un InvoiceID igual a cero.**\n",
    "- La regla 4 no se cumple dado que se tiene 64254 registros con formato incorrecto, así también un ordenamiento y filtro se restringe dado que esta columna es de tipo string.\n",
    "- La regla 5 no se cumple dado que solo hay 3 proveedores.\n",
    "\n",
    "#### Conclusiones de análisis descriptivo:\n",
    "\n",
    "- Se debe separar movimientos de tipo salida y movimientos de tipo ingreso.\n",
    "- Existen menos movimientos de tipo ingreso(7129) frente a tipo salida(197158)\n",
    "- Para evaluar un ingreso no es necesario los campos de ClienteID e InvoiceID. **¿Esto es correcto?**\n",
    "- La mayor parte de los movimientos de ingreso son de TipoTransaccionID 11(Stock Receipt)\n",
    "- Para evaluar una salida no son importantes los campos ProveedorID y OrdenDeCompraID. **¿Esto es correcto?**\n",
    "- ELa mayor parte de los movimientos de salida son de TipoTransaccionID 10(Stock Issue)\n",
    "\n",
    "#### Conclusiones de calidad:\n",
    "\n",
    "- Para evaluar la completitud de los datos se tienen que evaluar de forma diferente un movimiento de ingreso al de una una salida.. **¿Esto es correcto?**\n",
    "- Para una salida no se debe considerar un problema tener valores nulos en ProveedorID y OrdenDeCompraID.. **¿Esto es correcto?**\n",
    "- Existen 19 registros de movimientos que no tienen ni ClienteID, ni InvoiceID, ni ProveedorID, ni OrdenDeCompraID. Estos registros son de TipoTransaccionID = 12, **se pide al negocio aclarar estos datos.**. Luego de ver este caso se pide aclarar cuando una cantidad es positiva y cuando es negativa, tambien si esto depende del Tipo de Transaccion.\n",
    "- Solo existen 173.359 registros únicos, existen duplicados.\n",
    "- En un tipo de movimiento de tipo salida, casi todos los datos tienen como Tipo de transacción el valor de Stock ISSUE, este parece ser incorrecto, **se solicita al negocio aclarar esto.**\n",
    "- Se procede a verificar que los movimientos de salida, los que tienen ProveedorID y OrdenDeCompraID solo pueden tener valores positivos. **¿Esto es correcto?**\n",
    "- Se procede a verificar que los movimientos de salida, los que tienen InvoiceID y ClienteID sólo pueden tener valores negativos. **¿Esto es correcto?**\n",
    "- No existen movimientos con cantidad igual a 0.\n",
    "\n",
    "\n",
    "Para finalizar debemos aclarar que este análisis ha sido realizado en base a muchos supuestos que deben ser resueltos por el negocio. Sin estas aclaraciones es imposible realizar un futuro tablero de control.  Se necesita saber más sobre que rol cumple el tipo de transacción, su relación con tener una cantidad positiva o negativa. Así también se necesita saber cuales son los escenarios donde se tiene ClienteID, InvoiceID, ProveedorID, y OrdenDeCompraID. "
   ]
  }
 ],
 "metadata": {
  "kernelspec": {
   "display_name": "Python 3 (ipykernel)",
   "language": "python",
   "name": "python3"
  },
  "language_info": {
   "codemirror_mode": {
    "name": "ipython",
    "version": 3
   },
   "file_extension": ".py",
   "mimetype": "text/x-python",
   "name": "python",
   "nbconvert_exporter": "python",
   "pygments_lexer": "ipython3",
   "version": "3.8.5"
  }
 },
 "nbformat": 4,
 "nbformat_minor": 5
}
